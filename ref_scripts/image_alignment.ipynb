{
 "cells": [
  {
   "cell_type": "markdown",
   "metadata": {},
   "source": [
    "# Notebook for aligning and projecting exposure stacks"
   ]
  },
  {
   "cell_type": "code",
   "execution_count": 1,
   "metadata": {},
   "outputs": [],
   "source": [
    "#custom py files\n",
    "from image_alignment import *\n",
    "from glob import glob"
   ]
  },
  {
   "cell_type": "markdown",
   "metadata": {},
   "source": [
    "# Collect file paths"
   ]
  },
  {
   "cell_type": "code",
   "execution_count": 2,
   "metadata": {},
   "outputs": [],
   "source": [
    "#reference images\n",
    "dir_ = \"/Users/katsuyacolon/Dropbox/Camera Uploads/092522_redrock/pleidas/*.nef\"\n",
    "ref = glob(dir_)[0]\n",
    "tiff_src_list = glob(dir_)\n",
    "\n",
    "del tiff_src_list[0]"
   ]
  },
  {
   "cell_type": "code",
   "execution_count": 5,
   "metadata": {},
   "outputs": [
    {
     "name": "stdout",
     "output_type": "stream",
     "text": [
      "Number of physical cores found = 2\n",
      "/Users/katsuyacolon/Dropbox/Camera Uploads/092522_redrock/pleidas/aligned_images/2022-09-26 10_36_48.tif\n",
      "/Users/katsuyacolon/Dropbox/Camera Uploads/092522_redrock/pleidas/aligned_images/2022-09-26 10_33_59.tif\n",
      "/Users/katsuyacolon/Dropbox/Camera Uploads/092522_redrock/pleidas/aligned_images/2022-09-26 10_37_00.tif\n",
      "/Users/katsuyacolon/Dropbox/Camera Uploads/092522_redrock/pleidas/aligned_images/2022-09-26 10_33_49.tif\n",
      "This task took 54.630826234817505 min\n"
     ]
    }
   ],
   "source": [
    "import time\n",
    "start = time.time()\n",
    "phase_affine_parallel(tiff_src_list, ref, max_dist=1, \n",
    "                          ransac_threshold=0.5,fwhm_range = (5,10), \n",
    "                          phase_only=True)\n",
    "print(f\"This task took {(time.time()-start)/60} min\")"
   ]
  },
  {
   "cell_type": "markdown",
   "metadata": {},
   "source": [
    "# Sigma clip and averaging or median filtering"
   ]
  },
  {
   "cell_type": "code",
   "execution_count": 7,
   "metadata": {},
   "outputs": [
    {
     "data": {
      "text/plain": [
       "['/Users/katsuyacolon/Dropbox/Camera Uploads/092522_redrock/pleidas/aligned_images/2022-09-26 10_36_48.tif',\n",
       " '/Users/katsuyacolon/Dropbox/Camera Uploads/092522_redrock/pleidas/aligned_images/2022-09-26 10_33_37.tif',\n",
       " '/Users/katsuyacolon/Dropbox/Camera Uploads/092522_redrock/pleidas/aligned_images/2022-09-26 10_33_59.tif',\n",
       " '/Users/katsuyacolon/Dropbox/Camera Uploads/092522_redrock/pleidas/aligned_images/2022-09-26 10_37_00.tif',\n",
       " '/Users/katsuyacolon/Dropbox/Camera Uploads/092522_redrock/pleidas/aligned_images/2022-09-26 10_33_49.tif']"
      ]
     },
     "execution_count": 7,
     "metadata": {},
     "output_type": "execute_result"
    }
   ],
   "source": [
    "#grab all filed in aligned images\n",
    "files = glob(\"/Users/katsuyacolon/Dropbox/Camera Uploads/092522_redrock/pleidas/aligned_images/*.tif\")\n",
    "files"
   ]
  },
  {
   "cell_type": "code",
   "execution_count": 8,
   "metadata": {},
   "outputs": [
    {
     "name": "stdout",
     "output_type": "stream",
     "text": [
      "what sigma value:3\n"
     ]
    }
   ],
   "source": [
    "#type_of_projection= \"sigma_clip_mean\" or \"median\"\n",
    "project_images(files, type_of_projection = \"sigma_clip_mean\")"
   ]
  },
  {
   "cell_type": "code",
   "execution_count": 9,
   "metadata": {},
   "outputs": [],
   "source": [
    "project_images(files, type_of_projection = \"median\")"
   ]
  },
  {
   "cell_type": "code",
   "execution_count": null,
   "metadata": {},
   "outputs": [],
   "source": []
  }
 ],
 "metadata": {
  "kernelspec": {
   "display_name": "Python 3",
   "language": "python",
   "name": "python3"
  },
  "language_info": {
   "codemirror_mode": {
    "name": "ipython",
    "version": 3
   },
   "file_extension": ".py",
   "mimetype": "text/x-python",
   "name": "python",
   "nbconvert_exporter": "python",
   "pygments_lexer": "ipython3",
   "version": "3.7.6"
  }
 },
 "nbformat": 4,
 "nbformat_minor": 2
}
