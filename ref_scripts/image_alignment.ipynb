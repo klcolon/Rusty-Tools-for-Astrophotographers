{
 "cells": [
  {
   "cell_type": "markdown",
   "metadata": {},
   "source": [
    "# Notebook for aligning and projecting exposure stacks"
   ]
  },
  {
   "cell_type": "code",
   "execution_count": null,
   "metadata": {},
   "outputs": [],
   "source": [
    "#custom py files\n",
    "from image_alignment import *\n",
    "from glob import glob"
   ]
  },
  {
   "cell_type": "markdown",
   "metadata": {},
   "source": [
    "# Collect file paths"
   ]
  },
  {
   "cell_type": "code",
   "execution_count": null,
   "metadata": {},
   "outputs": [],
   "source": [
    "#reference images\n",
    "ref = \"../../milkyway_galacticcenter/2022-07-02 11.19.29.nef\"\n",
    "\n",
    "#moving images\n",
    "tiff_src_list = [\"../../milkyway_galacticcenter/2022-07-02 11.19.50.nef\",\n",
    "                 \"../../milkyway_galacticcenter/2022-07-02 11.20.24.nef\"]"
   ]
  },
  {
   "cell_type": "code",
   "execution_count": null,
   "metadata": {},
   "outputs": [],
   "source": [
    "import time\n",
    "start = time.time()\n",
    "phase_affine_parallel(tiff_src_list, ref, max_dist=1, \n",
    "                          ransac_threshold=0.5,fwhm_range = (5,10), \n",
    "                          phase_only=False)\n",
    "print(f\"This task took {(time.time()-start)/60} min\")"
   ]
  },
  {
   "cell_type": "markdown",
   "metadata": {},
   "source": [
    "# Sigma clip and averaging or median filtering"
   ]
  },
  {
   "cell_type": "code",
   "execution_count": null,
   "metadata": {},
   "outputs": [],
   "source": [
    "#grab all filed in aligned images\n",
    "files = glob(\"../../milkyway_galacticcenter/aligned_images/*.tif\")\n",
    "files"
   ]
  },
  {
   "cell_type": "code",
   "execution_count": null,
   "metadata": {},
   "outputs": [],
   "source": [
    "#type_of_projection= \"sigma_clip_mean\" or \"median\"\n",
    "project_images(files, type_of_projection = \"sigma_clip_mean\")"
   ]
  },
  {
   "cell_type": "code",
   "execution_count": null,
   "metadata": {},
   "outputs": [],
   "source": [
    "project_images(files, type_of_projection = \"median\")"
   ]
  }
 ],
 "metadata": {
  "kernelspec": {
   "display_name": "Python 3",
   "language": "python",
   "name": "python3"
  },
  "language_info": {
   "codemirror_mode": {
    "name": "ipython",
    "version": 3
   },
   "file_extension": ".py",
   "mimetype": "text/x-python",
   "name": "python",
   "nbconvert_exporter": "python",
   "pygments_lexer": "ipython3",
   "version": "3.8.5"
  }
 },
 "nbformat": 4,
 "nbformat_minor": 2
}
